{
  "cells": [
    {
      "cell_type": "markdown",
      "metadata": {
        "id": "piiX_CRNFYUi"
      },
      "source": [
        "# Technical Challenge ! Custiomers and Orders - The lifeblood of any business!\n",
        "\n",
        "This notebook depends on two data files: customers.scv and orders.csv. These files are hosted in the cloud (or Github), so for simplicity, we are providing you with the code to download and save the two files in a folder called 'sample_data' which lives within this notebook session (not on your local computer nor Google Drive).\n",
        "\n",
        "![sample_data folder in notebook session](https://raw.githubusercontent.com/anyoneai/notebooks/main/customers_and_orders/images/sample_data_folder.png)\n",
        "\n",
        "Please execute the first code snippet before moving to the rest of the exercise as this code will import the data from the files for you to be able to execute the rest of the exercise.\n",
        "\n",
        "Remember as we said in the previous lecture, you have to save this notebook into your Google Drive by going to menu File/Save a Copy In Drive, or clicking in the button \"Copy to Drive\". This way, you will not lose any work you've done and the file will persist with your latest changes in your Google Drive. Also we recommend you to rename your .ipynb in your Google Drive, so you can easily find it in the future."
      ]
    },
    {
      "cell_type": "code",
      "execution_count": 1,
      "metadata": {
        "colab": {
          "base_uri": "https://localhost:8080/"
        },
        "id": "MWpVO242FQHC",
        "outputId": "e384f305-c60a-4b34-ad8e-ece5089d075c"
      },
      "outputs": [
        {
          "output_type": "stream",
          "name": "stdout",
          "text": [
            "Customers and orders CSV files have been added './sample_data'\n"
          ]
        }
      ],
      "source": [
        "import requests\n",
        "\n",
        "def import_data_files():\n",
        "  r = requests.get('https://raw.githubusercontent.com/anyoneai/notebooks/main/customers_and_orders/data/customers.csv')\n",
        "  with open('./sample_data/customers.csv', 'wb') as f:\n",
        "    f.write(r.content)\n",
        "\n",
        "  r = requests.get('https://raw.githubusercontent.com/anyoneai/notebooks/main/customers_and_orders/data/orders.csv')\n",
        "  with open('./sample_data/orders.csv', 'wb') as f:\n",
        "    f.write(r.content)\n",
        "\n",
        "import_data_files()\n",
        "print(\"Customers and orders CSV files have been added './sample_data'\")"
      ]
    },
    {
      "cell_type": "markdown",
      "metadata": {
        "id": "JQAduY-RWKyB"
      },
      "source": [
        "# Exercise 1: Processing Customers data (difficulty medium)\n",
        "\n",
        "The sample customer data in 'customers.csv' file has just 5 columns: CustomerId, First Name, Last Name, City and State\n",
        "\n",
        "![Data sample](https://raw.githubusercontent.com/anyoneai/notebooks/main/customers_and_orders/images/customers.png)\n",
        "\n",
        "We strongly recommend that you complete from the [Prep Course: Intro to Python](https://colab.research.google.com/github/anyoneai/notebooks/blob/main/python3_crash_course.ipynb) the following section:\n",
        "- Section 7: File I/O (to understand how to read CSV file)\n",
        "- Section 6: For Loop (to navigate the contents of the CSV file)\n",
        "- Section 5: Tuples, Lists, and Dictionaries (to manipulate the data of the CSV file)\n",
        "\n",
        "With this, we hope you can complete this exercise successfully. Although if you want to solve this with libraries or any other way, you are welcome to do it your way.\n",
        "\n",
        "*Hint:* We advise you to take a look at the data before you start.\n",
        "**if you want to manually take a look at the data before you start, please see the content of the data [here](https://github.com/anyoneai/notebooks/blob/main/customers_and_orders/data/customers.csv).\n",
        "\n",
        "*Hint*: There are many ways to do this exercise you can do your own, although here's some help. You can solve this exercise reading and parsing CSV files, structuring data into dictionaries, and using for loops to navigate the contents\n",
        "\n",
        "*Hint*: Also, keep in mind that data might not be clean and you might have to figure out how to deal with that data from the code, without having to modify the data source.\n",
        "\n",
        "Below are the 5 questions you'll have to answer to pass the evaluation:"
      ]
    },
    {
      "cell_type": "markdown",
      "metadata": {
        "id": "kJq7S8sBfbOW"
      },
      "source": [
        "**Question 1:** How many customers are in the file?\n",
        "(as help, we have added some comments and starter code to help you structure the solution)"
      ]
    },
    {
      "cell_type": "code",
      "execution_count": 11,
      "metadata": {
        "colab": {
          "base_uri": "https://localhost:8080/"
        },
        "id": "oMnUFBFb2RUb",
        "outputId": "405cd5cf-a9de-47fb-e60e-d5689afbcb50"
      },
      "outputs": [
        {
          "output_type": "stream",
          "name": "stdout",
          "text": [
            "There are 602 customers in the file\n",
            "All done!\n"
          ]
        }
      ],
      "source": [
        "from os.path import exists\n",
        "import csv\n",
        "\n",
        "# check if file can be found and open the file\n",
        "datafile = \"./sample_data/customers.csv\"\n",
        "if not exists(datafile):\n",
        "  raise SystemExit(\"You should run the first code cell and download the dataset files!\")\n",
        "\n",
        "# customers file is in the sample_data folder and can be opened.\n",
        "# Using csv reader is one way of dealing with the file\n",
        "# but it's up to you how you want to proceed\n",
        "num_row = 0\n",
        "\n",
        "with open(datafile, 'r') as fl:\n",
        "  csvreader = csv.reader(fl, delimiter=',')\n",
        "  for row in csvreader:\n",
        "    num_row += 1\n",
        "  print(f\"There are {num_row - 1} customers in the file\")\n",
        "\n",
        "  # loop through the rows and count etc. THE REST IS UP TO YOU!\n",
        "\n",
        "\n",
        "print(\"All done!\")"
      ]
    },
    {
      "cell_type": "markdown",
      "metadata": {
        "id": "uffBnNgz_570"
      },
      "source": [
        "**Question 2:** In how many different states do the customers live in?"
      ]
    },
    {
      "cell_type": "code",
      "execution_count": 27,
      "metadata": {
        "id": "Bi_yid0sMe3-",
        "colab": {
          "base_uri": "https://localhost:8080/"
        },
        "outputId": "73535748-b24f-48ff-874e-56c508c9a942"
      },
      "outputs": [
        {
          "output_type": "stream",
          "name": "stdout",
          "text": [
            "{'OR', 'NM', 'AZ', 'FL', 'NH', 'UT', 'ID', 'CO', 'TX', 'IN', 'MA', 'WA', 'NV', 'STATE', 'CA'}\n",
            "There are 14 states where customers live\n",
            "All done!\n"
          ]
        }
      ],
      "source": [
        "from os.path import exists\n",
        "import csv\n",
        "\n",
        "# check if file can be found and open the file\n",
        "datafile = \"./sample_data/customers.csv\"\n",
        "if not exists(datafile):\n",
        "  raise SystemExit(\"You should run the first code cell and download the dataset files!\")\n",
        "\n",
        "# customers file is in the sample_data folder and can be opened.\n",
        "# Using csv reader is one way of dealing with the file\n",
        "# but it's up to you how you want to proceed\n",
        "num_row = 0\n",
        "\n",
        "states = []\n",
        "\n",
        "with open(datafile, 'r') as fl:\n",
        "  csvreader = csv.reader(fl, delimiter=',')\n",
        "  for row in csvreader:\n",
        "    states.append(row[4].upper().strip())\n",
        "\n",
        "states = set(states)\n",
        "\n",
        "print(f\"There are {len(states) - 1} states where customers live\")\n",
        "\n",
        "  # loop through the rows and count etc. THE REST IS UP TO YOU!\n",
        "\n",
        "\n",
        "print(\"All done!\")"
      ]
    },
    {
      "cell_type": "markdown",
      "metadata": {
        "id": "DC59SZYiMfNY"
      },
      "source": [
        "**Question 3** What is the state with most customers?"
      ]
    },
    {
      "cell_type": "code",
      "execution_count": 43,
      "metadata": {
        "id": "tfGU3w-OMhA9",
        "colab": {
          "base_uri": "https://localhost:8080/"
        },
        "outputId": "26660f5b-fd36-4c88-b81a-19e0414e6ff3"
      },
      "outputs": [
        {
          "output_type": "stream",
          "name": "stdout",
          "text": [
            "The state with most customers is CA with 569 customers\n"
          ]
        }
      ],
      "source": [
        "from os.path import exists\n",
        "import csv\n",
        "\n",
        "# check if file can be found and open the file\n",
        "datafile = \"./sample_data/customers.csv\"\n",
        "if not exists(datafile):\n",
        "  raise SystemExit(\"You should run the first code cell and download the dataset files!\")\n",
        "\n",
        "# customers file is in the sample_data folder and can be opened.\n",
        "# Using csv reader is one way of dealing with the file\n",
        "# but it's up to you how you want to proceed\n",
        "num_row = 0\n",
        "\n",
        "states = []\n",
        "with open(datafile, 'r') as fl:\n",
        "  csvreader = csv.reader(fl, delimiter=',')\n",
        "  for row in csvreader:\n",
        "    states.append(row[4].upper().strip())\n",
        "\n",
        "statesDistinct = set(states)\n",
        "statesDic = {}\n",
        "for state in statesDistinct:\n",
        "  statesDic[state] = 0\n",
        "\n",
        "with open(datafile, 'r') as fl:\n",
        "  csvreader = csv.reader(fl, delimiter=',')\n",
        "  for row in csvreader:\n",
        "    if row[4].upper().strip() in statesDic:\n",
        "      statesDic[row[4].upper().strip()] += 1\n",
        "\n",
        "for item in statesDic.items():\n",
        "  if item[1] == max(statesDic.values()):\n",
        "    print(f\"The state with most customers is {item[0]} with {item[1]} customers\")\n"
      ]
    },
    {
      "cell_type": "markdown",
      "metadata": {
        "id": "7mcM6cUAMhLB"
      },
      "source": [
        "**Question 4** What is the state with the least customers?"
      ]
    },
    {
      "cell_type": "code",
      "execution_count": 47,
      "metadata": {
        "id": "8T0Ka2RqMi3P",
        "colab": {
          "base_uri": "https://localhost:8080/"
        },
        "outputId": "ad2119b2-6447-4549-e53e-0c073e1e1924"
      },
      "outputs": [
        {
          "output_type": "stream",
          "name": "stdout",
          "text": [
            "The state with least customers is OR with 1 customers\n",
            "The state with least customers is NH with 1 customers\n",
            "The state with least customers is ID with 1 customers\n",
            "The state with least customers is IN with 1 customers\n",
            "The state with least customers is MA with 1 customers\n",
            "The state with least customers is WA with 1 customers\n"
          ]
        }
      ],
      "source": [
        "from os.path import exists\n",
        "import csv\n",
        "\n",
        "# check if file can be found and open the file\n",
        "datafile = \"./sample_data/customers.csv\"\n",
        "if not exists(datafile):\n",
        "  raise SystemExit(\"You should run the first code cell and download the dataset files!\")\n",
        "\n",
        "# customers file is in the sample_data folder and can be opened.\n",
        "# Using csv reader is one way of dealing with the file\n",
        "# but it's up to you how you want to proceed\n",
        "\n",
        "states = []\n",
        "with open(datafile, 'r') as fl:\n",
        "  csvreader = csv.reader(fl, delimiter=',')\n",
        "  for row in csvreader:\n",
        "    states.append(row[4].upper().strip())\n",
        "\n",
        "statesDistinct = set(states)\n",
        "statesDic = {}\n",
        "for state in statesDistinct:\n",
        "  statesDic[state] = 0\n",
        "\n",
        "with open(datafile, 'r') as fl:\n",
        "  csvreader = csv.reader(fl, delimiter=',')\n",
        "  for row in csvreader:\n",
        "    if row[4].upper().strip() in statesDic:\n",
        "      statesDic[row[4].upper().strip()] += 1\n",
        "\n",
        "for item in statesDic.items():\n",
        "  if item[1] == min(statesDic.values()) and item[0] != \"STATE\":\n",
        "    print(f\"The state with least customers is {item[0]} with {item[1]} customers\")"
      ]
    },
    {
      "cell_type": "markdown",
      "metadata": {
        "id": "h6fIy7hXHF6A"
      },
      "source": [
        "**Question 5:** What is the most common last name?"
      ]
    },
    {
      "cell_type": "code",
      "execution_count": 51,
      "metadata": {
        "id": "k8M1DmA75Km7",
        "colab": {
          "base_uri": "https://localhost:8080/"
        },
        "outputId": "ca6ad2c7-5178-4ac3-c6be-75f7f485ecb8"
      },
      "outputs": [
        {
          "output_type": "stream",
          "name": "stdout",
          "text": [
            "The lastname most comun is SMITH with 8 times\n"
          ]
        }
      ],
      "source": [
        "from os.path import exists\n",
        "import csv\n",
        "\n",
        "# check if file can be found and open the file\n",
        "datafile = \"./sample_data/customers.csv\"\n",
        "if not exists(datafile):\n",
        "  raise SystemExit(\"You should run the first code cell and download the dataset files!\")\n",
        "\n",
        "# customers file is in the sample_data folder and can be opened.\n",
        "# Using csv reader is one way of dealing with the file\n",
        "# but it's up to you how you want to proceed\n",
        "num_row = 0\n",
        "\n",
        "lastNames = []\n",
        "with open(datafile, 'r') as fl:\n",
        "  csvreader = csv.reader(fl, delimiter=',')\n",
        "  for row in csvreader:\n",
        "    lastNames.append(row[2].upper().strip())\n",
        "\n",
        "lastNamesDistinct = set(lastNames)\n",
        "lastNamesDic = {}\n",
        "for lastNames in lastNamesDistinct:\n",
        "  lastNamesDic[lastNames] = 0\n",
        "\n",
        "with open(datafile, 'r') as fl:\n",
        "  csvreader = csv.reader(fl, delimiter=',')\n",
        "  for row in csvreader:\n",
        "    if row[2].upper().strip() in lastNamesDic:\n",
        "      lastNamesDic[row[2].upper().strip()] += 1\n",
        "\n",
        "for item in lastNamesDic.items():\n",
        "  if item[1] == max(lastNamesDic.values()):\n",
        "    print(f\"The lastname most comun is {item[0]} with {item[1]} times\")"
      ]
    },
    {
      "cell_type": "markdown",
      "metadata": {
        "id": "YPRma1t9NoFk"
      },
      "source": [
        "# Exercise 2: Processing Orders data (difficulty high)\n",
        "\n",
        "The second sample files contains orders placed by customers from the first file. Be careful, this file has many rows and you most likely should not print the contents of the whole file.\n",
        "\n",
        "The file contains the following columns: CustomerID, OrderID, Date, OrderTotal, ProductName, Price\n",
        "\n",
        "![Data sample](https://raw.githubusercontent.com/anyoneai/notebooks/main/customers_and_orders/images/orders.png)\n",
        "\n",
        "*Hint:* We advise you to take a look at the data before you start.\n",
        "**if you want to manually take a look at the data before you start, please see the content of the data [here](https://raw.githubusercontent.com/anyoneai/notebooks/main/customers_and_orders/data/orders.csv).\n",
        "\n",
        "*Hint*: There are many ways to do this exercise you can do your own, although here's some help. You can solve this exercise reading and parsing CSV files, structuring data into dictionaries, and using for loops to navigate the contents\n",
        "\n",
        "*Hint*: Also, the data is not clean and you will have to figure out how to deal with that data from the code, without having to modify the data source.\n",
        "\n",
        "\n",
        "\n",
        "**Question #1:** How many unique orders are in the orders.csv file?\n",
        "\n",
        "**Question #2:** What is the average number of items per order (rounded to two decimal places)?\n",
        "\n",
        "**Question #3:** What is the highest number of items per order?\n",
        "\n",
        "**Question #4:** What is the number of orders placed in October 2021?\n",
        "\n",
        "**Question #5:** Which customer spent the most amount of money in 2021?\n",
        "\n",
        "**Question #6:** Historically, what is the best month for sales?\n",
        "\n",
        "Once you get your answers, remember to go back to the course and introduce them in the multiple choice quiz"
      ]
    },
    {
      "cell_type": "markdown",
      "metadata": {
        "id": "gT1N2RVTJXlT"
      },
      "source": [
        "# Exercise 2: Processing Orders data (difficulty high)\n",
        "\n",
        "The second sample files contains orders placed by customers from the first file. Be careful, this file has many rows and you most likely should not print the contents of the whole file.\n",
        "\n",
        "The file contains the following columns: CustomerID, OrderID, Date, OrderTotal, ProductName, Price\n",
        "\n",
        "![Data sample](https://raw.githubusercontent.com/anyoneai/notebooks/main/customers_and_orders/images/orders.png)\n",
        "\n",
        "*Hint:* We advise you to take a look at the data before you start.\n",
        "**if you want to manually take a look at the data before you start, please see the content of the data [here](https://raw.githubusercontent.com/anyoneai/notebooks/main/customers_and_orders/data/orders.csv).\n",
        "\n",
        "*Hint*: There are many ways to do this exercise you can do your own, although here's some help. You can solve this exercise reading and parsing CSV files, structuring data into dictionaries, and using for loops to navigate the contents\n",
        "\n",
        "*Hint*: Also, the data is not clean and you will have to figure out how to deal with that data from the code, without having to modify the data source.\n",
        "\n",
        "\n",
        "\n",
        "**Question #1:** How many unique orders are in the orders.csv file?\n",
        "\n",
        "**Question #2:** What is the average number of items per order (rounded to two decimal places)?\n",
        "\n",
        "**Question #3:** What is the highest number of items per order?\n",
        "\n",
        "**Question #4:** What is the number of orders placed in October 2021?\n",
        "\n",
        "**Question #5:** Which customer spent the most amount of money in 2021?\n",
        "\n",
        "**Question #6:** Historically, what is the best month for sales?\n",
        "\n",
        "Once you get your answers, remember to go back to the course and introduce them in the multiple choice quiz"
      ]
    },
    {
      "cell_type": "code",
      "source": [
        "from os.path import exists\n",
        "import csv\n",
        "\n",
        "# check if file can be found and open the file\n",
        "datafile = \"./sample_data/orders.csv\"\n",
        "if not exists(datafile):\n",
        "  raise SystemExit(\"You should run the first code cell and download the dataset files!\")\n",
        "\n",
        "# customers file is in the sample_data folder and can be opened.\n",
        "# Using csv reader is one way of dealing with the file\n",
        "# but it's up to you how you want to proceed\n",
        "\n",
        "orders = []\n",
        "orderItem = \"\"\n",
        "\n",
        "numRow = 0\n",
        "with open(datafile, 'r') as fl:\n",
        "  csvreader = csv.reader(fl, delimiter=',')\n",
        "  for row in csvreader:\n",
        "    if numRow == 0:\n",
        "      numRow += 1\n",
        "      continue\n",
        "    for item in row:\n",
        "      orderItem = f\"{orderItem}{item.upper().strip()}\"\n",
        "\n",
        "    orders.append(orderItem)\n",
        "    orderItem = \"\"\n",
        "    # orders.append(f\"{row[0].strip().upper()}\")\n",
        "\n",
        "# print(orders[0])\n",
        "orderDistinct = set(orders)\n",
        "print(f\" There are {len(orderDistinct)} unique orders\")"
      ],
      "metadata": {
        "colab": {
          "base_uri": "https://localhost:8080/"
        },
        "id": "N1mOG190EUOd",
        "outputId": "b3f25a2e-7a68-4ad2-8e11-fd6243017e68"
      },
      "execution_count": 6,
      "outputs": [
        {
          "output_type": "stream",
          "name": "stdout",
          "text": [
            " There are 23375 unique orders\n"
          ]
        }
      ]
    },
    {
      "cell_type": "code",
      "execution_count": 33,
      "metadata": {
        "id": "8ipJTrfs5QVM",
        "colab": {
          "base_uri": "https://localhost:8080/"
        },
        "outputId": "a4282e12-19a1-4968-df30-f052caf323cd"
      },
      "outputs": [
        {
          "output_type": "stream",
          "name": "stdout",
          "text": [
            "The average number of items per order is 1.402\n"
          ]
        }
      ],
      "source": [
        "#######################################################################################\n",
        "#question 2\n",
        "from os.path import exists\n",
        "import csv\n",
        "\n",
        "# check if file can be found and open the file\n",
        "datafile = \"./sample_data/orders.csv\"\n",
        "if not exists(datafile):\n",
        "  raise SystemExit(\"You should run the first code cell and download the dataset files!\")\n",
        "\n",
        "# customers file is in the sample_data folder and can be opened.\n",
        "# Using csv reader is one way of dealing with the file\n",
        "# but it's up to you how you want to proceed\n",
        "orders = []\n",
        "orderItem = \"\"\n",
        "\n",
        "numRow = 0\n",
        "with open(datafile, 'r') as fl:\n",
        "  csvreader = csv.reader(fl, delimiter=',')\n",
        "  for row in csvreader:\n",
        "    if numRow == 0:\n",
        "      numRow += 1\n",
        "      continue\n",
        "    for item in row:\n",
        "      orderItem = f\"{orderItem}{item.upper().strip()},\"\n",
        "\n",
        "    orders.append(orderItem)\n",
        "    orderItem = \"\"\n",
        "\n",
        "orderDistinct = set(orders)\n",
        "\n",
        "orderDistinctDic = {}\n",
        "for order in orderDistinct:\n",
        "  orderDistinctDic[order.split(\",\")[1].strip()] = 0\n",
        "\n",
        "for order in orderDistinct:\n",
        "  orderDistinctDic[order.split(\",\")[1].strip()] += 1\n",
        "\n",
        "average = sum(orderDistinctDic.values())/len(orderDistinctDic.values())\n",
        "\n",
        "print(f\"The average number of items per order is {round(average, 2)}\")\n",
        "\n",
        "\n",
        "\n"
      ]
    },
    {
      "cell_type": "code",
      "source": [
        "#Question #4: What is the number of orders placed in October 2021?\n",
        "from os.path import exists\n",
        "from datetime import datetime\n",
        "import csv\n",
        "\n",
        "# check if file can be found and open the file\n",
        "datafile = \"./sample_data/orders.csv\"\n",
        "if not exists(datafile):\n",
        "  raise SystemExit(\"You should run the first code cell and download the dataset files!\")\n",
        "\n",
        "# customers file is in the sample_data folder and can be opened.\n",
        "# Using csv reader is one way of dealing with the file\n",
        "# but it's up to you how you want to proceed\n",
        "orders = []\n",
        "orderItem = \"\"\n",
        "\n",
        "numRow = 0\n",
        "with open(datafile, 'r') as fl:\n",
        "  csvreader = csv.reader(fl, delimiter=',')\n",
        "  for row in csvreader:\n",
        "    if numRow == 0:\n",
        "      numRow += 1\n",
        "      continue\n",
        "    for item in row:\n",
        "      orderItem = f\"{orderItem}{item.upper().strip()},\"\n",
        "\n",
        "    orders.append(orderItem)\n",
        "    orderItem = \"\"\n",
        "\n",
        "orderDistinct = set(orders)\n",
        "\n",
        "dates =[]\n",
        "\n",
        "for order in orderDistinct:\n",
        "  if order.split(\",\")[2][0:7].strip() == \"2021-10\":\n",
        "    dates.append(order.split(\",\")[2][0:7].strip())\n",
        "\n",
        "print(f\"The number of orders placed in October 2021 is {len(dates)}\")\n"
      ],
      "metadata": {
        "colab": {
          "base_uri": "https://localhost:8080/"
        },
        "id": "IrRnev_wENn0",
        "outputId": "3511f20a-9805-40e4-9a17-22ff02a2a269"
      },
      "execution_count": 65,
      "outputs": [
        {
          "output_type": "stream",
          "name": "stdout",
          "text": [
            "The number of orders placed in October 2021 is 355\n"
          ]
        }
      ]
    },
    {
      "cell_type": "markdown",
      "source": [],
      "metadata": {
        "id": "QxNn4jcOZxs3"
      }
    },
    {
      "cell_type": "code",
      "source": [
        "#Question #5: Which customer spent the most amount of money in 2021?\n",
        "from os.path import exists\n",
        "from datetime import datetime\n",
        "import csv\n",
        "\n",
        "# check if file can be found and open the file\n",
        "datafile = \"./sample_data/orders.csv\"\n",
        "if not exists(datafile):\n",
        "  raise SystemExit(\"You should run the first code cell and download the dataset files!\")\n",
        "\n",
        "# customers file is in the sample_data folder and can be opened.\n",
        "# Using csv reader is one way of dealing with the file\n",
        "# but it's up to you how you want to proceed\n",
        "orders = []\n",
        "orderItem = \"\"\n",
        "\n",
        "numRow = 0\n",
        "with open(datafile, 'r') as fl:\n",
        "  csvreader = csv.reader(fl, delimiter=',')\n",
        "  for row in csvreader:\n",
        "    if numRow == 0:\n",
        "      numRow += 1\n",
        "      continue\n",
        "    for item in row:\n",
        "      orderItem = f\"{orderItem}{item.upper().strip()},\"\n",
        "\n",
        "    orders.append(orderItem)\n",
        "    orderItem = \"\"\n",
        "\n",
        "orderDistinct = set(orders)\n",
        "\n",
        "dates =[]\n",
        "\n",
        "for order in orderDistinct:\n",
        "  if order.split(\",\")[2][0:4].strip() == \"2021\":\n",
        "    dates.append(order)\n",
        "\n",
        "customersSpend = {}\n",
        "for order in orderDistinct:\n",
        "  customersSpend[order.split(\",\")[0].strip()] = 0\n",
        "\n",
        "\n",
        "for order in orderDistinct:\n",
        "  customersSpend[order.split(\",\")[0].strip()] += float (order.split(\",\")[3].strip())\n",
        "\n",
        "for customer in customersSpend.items():\n",
        "  if customer[1] == max(customersSpend.values()):\n",
        "    client = customer[0]\n",
        "print(f\" the customer who spent most amount of money in 2021 was {client} with {max(customersSpend.values())}\")\n",
        "\n",
        "\n"
      ],
      "metadata": {
        "id": "gxs6Xr_ZZ9fU",
        "outputId": "d4bc1fc3-ffe9-49dd-a487-577db8c42971",
        "colab": {
          "base_uri": "https://localhost:8080/"
        }
      },
      "execution_count": 83,
      "outputs": [
        {
          "output_type": "stream",
          "name": "stdout",
          "text": [
            "{'5172799': 0, '7553': 0, '5463': 0, '1909384': 0, '7639': 0, '5756': 0, '703330': 0, '1904479': 0, '5370101': 0, '5014': 0, '4300371': 0, '903601': 0, '5901': 0, '4301827': 0, '900329': 0, '5424': 0, '6196': 0, '5101127': 0, '5710': 0, '5945': 0, '5076': 0, '701419': 0, '5370884': 0, '22445': 0, '903743': 0, '1900588': 0, '700294': 0, '6144': 0, '4300254': 0, '5768': 0, '902503': 0, '1900610': 0, '6192': 0, '4301179': 0, '5721': 0, '1906528': 0, '5774': 0, '5446': 0, '5172644': 0, '23898': 0, '7901': 0, '5430': 0, '5415384': 0, '5572': 0, '1902406': 0, '703136': 0, '1903127': 0, '2300266': 0, '1907770': 0, '5370404': 0, '11042': 0, '1904133': 0, '4300081': 0, '5370268': 0, '6177': 0, '5464': 0, '1907160': 0, '5431': 0, '5814': 0, '5808': 0, '5415175': 0, '1906377': 0, '4301362': 0, '5078': 0, '5782': 0, '5971': 0, '1500569': 0, '6194': 0, '1905150': 0, '8091': 0, '23107': 0, '4300858': 0, '4301117': 0, '5776': 0, '1905380': 0, '5280': 0, '4301968': 0, '703561': 0, '1905606': 0, '5946': 0, '5068': 0, '5701': 0, '1500181': 0, '6131': 0, '5370111': 0, '1904538': 0, '5889': 0, '4300840': 0, '5053': 0, '703804': 0, '5173073': 0, '4301159': 0, '4301100': 0, '902536': 0, '10986': 0, '20532': 0, '700331': 0, '1907812': 0, '1907083': 0, '1907428': 0, '5955': 0, '5616': 0, '5173783': 0, '900569': 0, '9612': 0, '1906350': 0, '1500028': 0, '4700094': 0, '2300256': 0, '9387': 0, '700771': 0, '4301217': 0, '8259': 0, '5174027': 0, '5173749': 0, '902251': 0, '902639': 0, '5370474': 0, '2300276': 0, '1900805': 0, '900879': 0, '5100834': 0, '4301147': 0, '1905938': 0, '5415443': 0, '5415141': 0, '4302129': 0, '1907259': 0, '900070': 0, '4301400': 0, '4302187': 0, '701684': 0, '5370482': 0, '4700014': 0, '20471': 0, '5100185': 0, '5365': 0, '5173962': 0, '3500018': 0, '4301198': 0, '1902451': 0, '4301885': 0, '1903078': 0, '5100812': 0, '5370986': 0, '4301696': 0, '7812': 0, '1901469': 0, '20850': 0, '5173885': 0, '5172443': 0, '5100984': 0, '1904438': 0, '5415162': 0, '8462': 0, '5415482': 0, '5227': 0, '5172284': 0, '5173498': 0, '5173506': 0, '5370719': 0, '900258': 0, '5173842': 0, '1903426': 0, '1500339': 0, '5101304': 0, '5173895': 0, '5173788': 0, '4300295': 0, '5174004': 0, '5100330': 0, '11481': 0, '5370856': 0, '5100363': 0, '902139': 0, '1904527': 0, '5370983': 0, '5101829': 0, '11321': 0, '1908941': 0, '900635': 0, '5100721': 0, '4301487': 0, '1909346': 0, '5173939': 0, '1904932': 0, '5370216': 0, '5173875': 0, '5370317': 0, '5173989': 0, '1901506': 0, '1908934': 0, '1904529': 0, '5174054': 0, '5172786': 0, '5415286': 0, '5173981': 0, '5415270': 0, '5173438': 0, '5172728': 0, '5173856': 0, '4302023': 0, '4300438': 0, '14564': 0, '5172760': 0, '5172534': 0, '1909700': 0, '4300754': 0, '5173613': 0, '5173648': 0, '5173650': 0, '1900709': 0, '5415406': 0, '5370163': 0, '5172865': 0, '5173928': 0, '5173982': 0, '4300695': 0, '5370630': 0, '5173904': 0, '5370173': 0, '5100007': 0, '1908177': 0, '5100785': 0, '5101748': 0, '5173569': 0, '4300928': 0, '5415182': 0, '5370378': 0, '5415428': 0, '5370110': 0, '5173196': 0, '1904400': 0, '5172982': 0, '5370205': 0, '701258': 0, '5371026': 0, '5370142': 0, '3900068': 0, '5370985': 0, '5415418': 0, '1907925': 0, '5172601': 0, '4300670': 0, '5415331': 0, '1907141': 0, '5100595': 0, '19096': 0, '5415431': 0, '5172365': 0, '5371016': 0, '5101470': 0, '5173927': 0, '5415455': 0, '1909369': 0, '5972': 0, '5370706': 0, '1909705': 0, '5100605': 0, '5126060': 0, '5415325': 0, '5415407': 0, '5174063': 0, '5172086': 0, '9236': 0, '5173013': 0, '5174021': 0, '5173901': 0, '5100779': 0, '5370896': 0, '5173872': 0, '901063': 0, '5173686': 0, '5415350': 0, '5370278': 0, '5370329': 0, '5173135': 0, '5370527': 0, '5415425': 0, '5172133': 0, '5173415': 0, '5370134': 0, '22827': 0, '5393076': 0, '5172092': 0, '5101506': 0, '5126048': 0, '5370602': 0, '5370159': 0, '5370251': 0, '5173969': 0, '5415420': 0, '5370458': 0, '5415399': 0, '5370446': 0, '5370969': 0, '5370315': 0, '901786': 0, '900590': 0, '5415228': 0, '5370538': 0, '5415423': 0, '5172491': 0, '5172908': 0, '5173918': 0, '5415461': 0, '5370757': 0, '5370673': 0, '5415441': 0, '5173966': 0, '5371030': 0, '5173881': 0, '5415365': 0, '5173287': 0, '5173778': 0, '5415456': 0, '5415434': 0, '5371053': 0, '5370771': 0, '5415430': 0, '5173868': 0, '1901046': 0, '5415391': 0, '5173018': 0, '5172487': 0, '5370422': 0, '5370415': 0, '5370846': 0, '5173998': 0, '5370547': 0, '5370388': 0, '5173938': 0, '5370671': 0, '5173893': 0, '5415113': 0, '5415432': 0, '5370649': 0, '5415401': 0, '5415089': 0, '5415429': 0, '5370247': 0, '1903965': 0, '5415457': 0, '5172200': 0, '5172376': 0, '8404': 0, '5415476': 0, '5370196': 0, '5415474': 0, '5173158': 0, '5415395': 0, '5370599': 0, '5370211': 0, '5370863': 0, '5370655': 0, '5173800': 0, '5415446': 0, '5415433': 0, '5370647': 0, '5415452': 0, '5415469': 0, '5415279': 0, '5415337': 0, '5126069': 0, '5415442': 0, '5415382': 0, '5172337': 0, '5370086': 0, '5370557': 0, '5172859': 0, '5415419': 0, '5415451': 0, '5370504': 0, '5172680': 0, '5415478': 0, '4302052': 0, '5415329': 0, '5415439': 0, '5415445': 0, '1904886': 0, '5370253': 0, '5415249': 0, '5415484': 0, '5370475': 0, '5370347': 0, '5415483': 0, '5415361': 0, '5415472': 0, '5415438': 0, '5415414': 0, '5415285': 0, '5415416': 0, '1904821': 0, '5370786': 0, '5415436': 0, '5415475': 0, '5415114': 0, '5415465': 0, '5415405': 0, '5172656': 0, '5172643': 0, '5173877': 0, '5370200': 0, '5415444': 0, '5415087': 0, '5415410': 0, '5415362': 0, '5415421': 0, '5415323': 0, '5415171': 0, '5415211': 0, '4301059': 0, '5415404': 0, '5370298': 0, '5415345': 0, '5415415': 0, '5415448': 0, '5415500': 0, '5415460': 0, '5415408': 0, '5415122': 0, '5415379': 0, '5415394': 0, '5415503': 0, '5415318': 0, '1903794': 0, '5415470': 0, '5415440': 0, '5415409': 0, '5415462': 0, '702407': 0, '5415498': 0, '5415403': 0, '5415485': 0, '5415471': 0, '5172598': 0, '5173844': 0, '5415198': 0, '5415477': 0, '5415435': 0, '5415481': 0, '5415412': 0, '5415402': 0, '5415422': 0, '5415232': 0, '5415437': 0, '5415398': 0, '5415453': 0, '4301754': 0, '5415458': 0, '5415450': 0, '5415486': 0, '5415459': 0, '5415411': 0, '5415397': 0, '5415449': 0, '5415424': 0, '5415426': 0, '5415499': 0, '5415427': 0, '5415468': 0, '5415447': 0, '5415464': 0, '5415473': 0, '5415502': 0, '5370758': 0, '5415466': 0, '5415467': 0, '5415463': 0, '5415413': 0, '5415400': 0}\n",
            " the customer who spent most amount of money in 2021 was 5464 with 543640.0\n"
          ]
        }
      ]
    },
    {
      "cell_type": "markdown",
      "metadata": {
        "id": "ie0JW4FAk6Os"
      },
      "source": [
        "# Finished!\n",
        "\n",
        "Hope this was not too difficult and slicing and dicing the datasets was some fun. Now head on back to the course and provide the answers to the questions from this exercise."
      ]
    }
  ],
  "metadata": {
    "colab": {
      "name": "customers_and_orders.ipynb",
      "provenance": []
    },
    "kernelspec": {
      "display_name": "Python 3 (ipykernel)",
      "language": "python",
      "name": "python3"
    },
    "language_info": {
      "codemirror_mode": {
        "name": "ipython",
        "version": 3
      },
      "file_extension": ".py",
      "mimetype": "text/x-python",
      "name": "python",
      "nbconvert_exporter": "python",
      "pygments_lexer": "ipython3",
      "version": "3.9.9"
    }
  },
  "nbformat": 4,
  "nbformat_minor": 0
}